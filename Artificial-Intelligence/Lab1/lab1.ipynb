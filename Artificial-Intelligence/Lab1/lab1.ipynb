{
 "cells": [
  {
   "cell_type": "markdown",
   "metadata": {},
   "source": [
    "# 1.Să se determine ultimul (din punct de vedere alfabetic) cuvânt care poate apărea într-un text care conține mai multe cuvinte separate prin ” ” (spațiu). De ex. ultimul (dpdv alfabetic) cuvânt din ”Ana are mere rosii si galbene” este cuvântul \"si\"."
   ]
  },
  {
   "cell_type": "code",
   "execution_count": 18,
   "metadata": {
    "vscode": {
     "languageId": "plaintext"
    },
    "ExecuteTime": {
     "end_time": "2025-03-04T12:25:15.707441100Z",
     "start_time": "2025-03-04T12:25:15.571476100Z"
    }
   },
   "outputs": [
    {
     "name": "stdout",
     "output_type": "stream",
     "text": [
      "Toate testele au trecut!\n"
     ]
    }
   ],
   "source": [
    "def last_word(text):\n",
    "    return max(text.split())\n",
    "assert last_word(\"Ana are mere rosii si galbene\") == \"si\"\n",
    "assert last_word(\"zebra alpha beta gamma\") == \"zebra\"\n",
    "print(\"Toate testele au trecut!\")"
   ]
  },
  {
   "cell_type": "markdown",
   "metadata": {},
   "source": [
    "# ChatGPT:"
   ]
  },
  {
   "cell_type": "code",
   "execution_count": 19,
   "metadata": {
    "vscode": {
     "languageId": "plaintext"
    },
    "ExecuteTime": {
     "end_time": "2025-03-04T12:25:15.865427100Z",
     "start_time": "2025-03-04T12:25:15.588151900Z"
    }
   },
   "outputs": [],
   "source": [
    "def ultimul_cuvant(text):\n",
    "    # Împărțim textul în cuvinte folosind spațiul ca separator\n",
    "    cuvinte = text.split()\n",
    "    # Găsim ultimul cuvânt din punct de vedere alfabetic\n",
    "    ultimul_cuvant = max(cuvinte)\n",
    "    return ultimul_cuvant"
   ]
  },
  {
   "cell_type": "markdown",
   "metadata": {},
   "source": [
    "# 2.Să se determine distanța Euclideană între două locații identificate prin perechi de numere. De ex. distanța între (1,5) și (4,1) este 5.0"
   ]
  },
  {
   "cell_type": "code",
   "execution_count": 20,
   "metadata": {
    "vscode": {
     "languageId": "plaintext"
    },
    "ExecuteTime": {
     "end_time": "2025-03-04T12:25:15.865427100Z",
     "start_time": "2025-03-04T12:25:15.596220Z"
    }
   },
   "outputs": [
    {
     "name": "stdout",
     "output_type": "stream",
     "text": [
      "Toate testele au trecut!\n"
     ]
    }
   ],
   "source": [
    "import math\n",
    "def distanta_euclidiana(nr1, nr2):\n",
    "    return math.sqrt((nr2[0] -nr1[0]) **2 + (nr2[1] - nr1[1]) ** 2)\n",
    "assert distanta_euclidiana((1, 5), (4, 1)) == 5.0\n",
    "assert distanta_euclidiana((0, 0), (3, 4)) == 5.0\n",
    "print(\"Toate testele au trecut!\")"
   ]
  },
  {
   "cell_type": "markdown",
   "metadata": {},
   "source": [
    "# ChatGPT:"
   ]
  },
  {
   "cell_type": "code",
   "execution_count": 21,
   "metadata": {
    "vscode": {
     "languageId": "plaintext"
    },
    "ExecuteTime": {
     "end_time": "2025-03-04T12:25:15.865427100Z",
     "start_time": "2025-03-04T12:25:15.614467600Z"
    }
   },
   "outputs": [],
   "source": [
    "\n",
    "def distanta_euclidiana(coord1, coord2):\n",
    "    return ((coord1[0] - coord2[0]) ** 2 + (coord1[1] - coord2[1]) ** 2) ** 0.5"
   ]
  },
  {
   "cell_type": "markdown",
   "metadata": {},
   "source": [
    "# 3.Să se determine produsul scalar a doi vectori rari care conțin numere reale. Un vector este rar atunci când conține multe elemente nule. Vectorii pot avea oricâte dimensiuni. De ex. produsul scalar a 2 vectori unisimensionali [1,0,2,0,3] și [1,2,0,3,1] este 4.\n"
   ]
  },
  {
   "cell_type": "code",
   "execution_count": 22,
   "metadata": {
    "vscode": {
     "languageId": "plaintext"
    },
    "ExecuteTime": {
     "end_time": "2025-03-04T12:25:15.865427100Z",
     "start_time": "2025-03-04T12:25:15.623874100Z"
    }
   },
   "outputs": [
    {
     "name": "stdout",
     "output_type": "stream",
     "text": [
      "Toate testele au trecut!\n"
     ]
    }
   ],
   "source": [
    "def produs_scalar(vector1, vector2):\n",
    "    return  sum(a * b for a, b in zip(vector1, vector2) if a and b)\n",
    "assert produs_scalar([1, 0, 2, 0, 3], [1, 2, 0, 3, 1]) == 4\n",
    "assert produs_scalar([1, 2, 3], [4, 5, 6]) == 32\n",
    "print(\"Toate testele au trecut!\")\n"
   ]
  },
  {
   "cell_type": "markdown",
   "metadata": {},
   "source": [
    "# ChatGPT:"
   ]
  },
  {
   "cell_type": "code",
   "execution_count": 23,
   "metadata": {
    "vscode": {
     "languageId": "plaintext"
    },
    "ExecuteTime": {
     "end_time": "2025-03-04T12:25:15.903070600Z",
     "start_time": "2025-03-04T12:25:15.631135800Z"
    }
   },
   "outputs": [],
   "source": [
    "def produs_scalar(vector1, vector2):\n",
    "    scalar = 0\n",
    "    for i in range(len(vector1)):\n",
    "        if vector1[i] != 0 and vector2[i] != 0:\n",
    "            scalar += vector1[i] * vector2[i]\n",
    "    return scalar"
   ]
  },
  {
   "cell_type": "markdown",
   "metadata": {},
   "source": [
    "# 4.Să se determine cuvintele unui text care apar exact o singură dată în acel text. De ex. cuvintele care apar o singură dată în ”ana are ana are mere rosii ana\" sunt: 'mere' și 'rosii'."
   ]
  },
  {
   "cell_type": "code",
   "execution_count": 24,
   "metadata": {
    "vscode": {
     "languageId": "plaintext"
    },
    "ExecuteTime": {
     "end_time": "2025-03-04T12:25:15.930797900Z",
     "start_time": "2025-03-04T12:25:15.643906800Z"
    }
   },
   "outputs": [
    {
     "name": "stdout",
     "output_type": "stream",
     "text": [
      "Toate testele au trecut!\n"
     ]
    }
   ],
   "source": [
    "from collections import Counter\n",
    "def cuvinte_care_apar_o_singura_data(text):\n",
    "    numar_aparitii = Counter(text.split())\n",
    "    return [cuvant for cuvant, count in numar_aparitii.items() if count == 1]\n",
    "assert cuvinte_care_apar_o_singura_data(\"ana are ana are mere rosii ana\") == [\"mere\", \"rosii\"]\n",
    "assert cuvinte_care_apar_o_singura_data(\"unu doi trei doi unu patru\") == [\"trei\", \"patru\"]\n",
    "print(\"Toate testele au trecut!\")\n"
   ]
  },
  {
   "cell_type": "markdown",
   "metadata": {},
   "source": [
    "# ChatGPT:"
   ]
  },
  {
   "cell_type": "code",
   "execution_count": 25,
   "metadata": {
    "vscode": {
     "languageId": "plaintext"
    },
    "ExecuteTime": {
     "end_time": "2025-03-04T12:25:15.932809300Z",
     "start_time": "2025-03-04T12:25:15.659778300Z"
    }
   },
   "outputs": [],
   "source": [
    "def cuvinte_unice(text):\n",
    "    cuvinte = text.split()\n",
    "    frecventa = {}\n",
    "    for cuvant in cuvinte:\n",
    "        frecventa[cuvant] = frecventa.get(cuvant, 0) + 1\n",
    "    return [cuvant for cuvant, count in frecventa.items() if count == 1]"
   ]
  },
  {
   "cell_type": "markdown",
   "metadata": {},
   "source": [
    "# 5.Pentru un șir cu n elemente care conține valori din mulțimea {1, 2, ..., n - 1} astfel încât o singură valoare se repetă de două ori, să se identifice acea valoare care se repetă. De ex. în șirul [1,2,3,4,2] valoarea 2 apare de două ori."
   ]
  },
  {
   "cell_type": "code",
   "execution_count": 26,
   "metadata": {
    "vscode": {
     "languageId": "plaintext"
    },
    "ExecuteTime": {
     "end_time": "2025-03-04T12:25:15.934820400Z",
     "start_time": "2025-03-04T12:25:15.675766300Z"
    }
   },
   "outputs": [
    {
     "name": "stdout",
     "output_type": "stream",
     "text": [
      "Toate testele au trecut!\n"
     ]
    }
   ],
   "source": [
    "def valoare_repetata(sir):\n",
    "\n",
    "    valori = set()\n",
    "\n",
    "    for numar in sir:\n",
    "        if numar in valori:\n",
    "            return numar\n",
    "        valori.add(numar)\n",
    "\n",
    "    return None\n",
    "assert valoare_repetata([1, 2, 3, 4, 2]) == 2\n",
    "assert valoare_repetata([5, 6, 7, 8, 9]) == None\n",
    "print(\"Toate testele au trecut!\")"
   ]
  },
  {
   "cell_type": "markdown",
   "metadata": {},
   "source": [
    "# ChatGPT:"
   ]
  },
  {
   "cell_type": "code",
   "execution_count": 27,
   "metadata": {
    "vscode": {
     "languageId": "plaintext"
    },
    "ExecuteTime": {
     "end_time": "2025-03-04T12:25:15.934820400Z",
     "start_time": "2025-03-04T12:25:15.688916900Z"
    }
   },
   "outputs": [],
   "source": [
    "def valoare_repetata(lista):\n",
    "    seen = set()\n",
    "    for num in lista:\n",
    "        if num in seen:\n",
    "            return num\n",
    "        seen.add(num)\n",
    "    return None"
   ]
  }
 ],
 "metadata": {
  "language_info": {
   "name": "python"
  },
  "kernelspec": {
   "name": "python3",
   "language": "python",
   "display_name": "Python 3 (ipykernel)"
  }
 },
 "nbformat": 4,
 "nbformat_minor": 2
}
