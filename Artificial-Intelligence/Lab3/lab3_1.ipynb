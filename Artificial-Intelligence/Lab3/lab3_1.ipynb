{
 "cells": [
  {
   "cell_type": "code",
   "execution_count": 24,
   "id": "initial_id",
   "metadata": {
    "collapsed": true,
    "ExecuteTime": {
     "end_time": "2025-03-17T16:42:10.953598Z",
     "start_time": "2025-03-17T16:42:10.919895900Z"
    }
   },
   "outputs": [
    {
     "name": "stdout",
     "output_type": "stream",
     "text": [
      "VISION_KEY: 8JKzGpabbAjjakJdpgaiDpWUcemTiX3OtJDnauvjUlngn5HKpk9yJQQJ99BCAC5RqLJXJ3w3AAAFACOGfpJN\n",
      "VISION_ENDPOINT: https://georgiana.cognitiveservices.azure.com/\n"
     ]
    }
   ],
   "source": [
    "import os\n",
    "\n",
    "# Manually set the environment variables\n",
    "os.environ[\"VISION_KEY\"] = \"8JKzGpabbAjjakJdpgaiDpWUcemTiX3OtJDnauvjUlngn5HKpk9yJQQJ99BCAC5RqLJXJ3w3AAAFACOGfpJN\"\n",
    "os.environ[\"VISION_ENDPOINT\"] = \"https://georgiana.cognitiveservices.azure.com/\"\n",
    "\n",
    "# Verify if the variables are set\n",
    "print(\"VISION_KEY:\", os.environ.get(\"VISION_KEY\"))\n",
    "print(\"VISION_ENDPOINT:\", os.environ.get(\"VISION_ENDPOINT\"))\n"
   ]
  },
  {
   "cell_type": "code",
   "execution_count": 25,
   "outputs": [
    {
     "data": {
      "text/plain": "'\\nEND - Authenticate\\n'"
     },
     "execution_count": 25,
     "metadata": {},
     "output_type": "execute_result"
    }
   ],
   "source": [
    "from azure.cognitiveservices.vision.computervision import ComputerVisionClient\n",
    "from azure.cognitiveservices.vision.computervision.models import OperationStatusCodes\n",
    "from azure.cognitiveservices.vision.computervision.models import VisualFeatureTypes\n",
    "from msrest.authentication import CognitiveServicesCredentials\n",
    "from array import array\n",
    "import os\n",
    "from PIL import Image\n",
    "import sys\n",
    "import time\n",
    "'''\n",
    "Authenticate\n",
    "Authenticates your credentials and creates a client.\n",
    "'''\n",
    "subscription_key = os.environ[\"VISION_KEY\"]\n",
    "endpoint = os.environ[\"VISION_ENDPOINT\"]\n",
    "computervision_client = ComputerVisionClient(endpoint, CognitiveServicesCredentials(subscription_key))\n",
    "'''\n",
    "END - Authenticate\n",
    "'''"
   ],
   "metadata": {
    "collapsed": false,
    "ExecuteTime": {
     "end_time": "2025-03-17T16:42:11.031326500Z",
     "start_time": "2025-03-17T16:42:10.951590800Z"
    }
   },
   "id": "97620f57ec592374"
  },
  {
   "cell_type": "markdown",
   "source": [
    "# Exemplul"
   ],
   "metadata": {
    "collapsed": false
   },
   "id": "5a447051df085620"
  },
  {
   "cell_type": "code",
   "execution_count": 26,
   "outputs": [
    {
     "name": "stdout",
     "output_type": "stream",
     "text": [
      "Lucces in resolvarea\n",
      "TEMELOR la\n",
      "LABORA toarele de\n",
      "Inteligenta Artificialà!\n"
     ]
    }
   ],
   "source": [
    "# img = open(\"test1.png\", \"rb\")\n",
    "img = open(\"test2.jpeg\", \"rb\")\n",
    "read_response = computervision_client.read_in_stream(\n",
    "    image=img,\n",
    "    mode=\"Printed\",\n",
    "    raw=True\n",
    ")\n",
    "# print(read_response.as_dict())\n",
    "\n",
    "operation_id = read_response.headers['Operation-Location'].split('/')[-1]\n",
    "while True:\n",
    "    read_result = computervision_client.get_read_result(operation_id)\n",
    "    if read_result.status not in ['notStarted', 'running']:\n",
    "        break\n",
    "    time.sleep(1)\n",
    "\n",
    "# Print the detected text, line by line\n",
    "result = []\n",
    "if read_result.status == OperationStatusCodes.succeeded:\n",
    "    for text_result in read_result.analyze_result.read_results:\n",
    "        for line in text_result.lines:\n",
    "            print(line.text)\n",
    "            result.append(line.text)\n",
    "\n",
    "print()"
   ],
   "metadata": {
    "collapsed": false,
    "ExecuteTime": {
     "end_time": "2025-03-17T16:42:12.757844100Z",
     "start_time": "2025-03-17T16:42:10.967495300Z"
    }
   },
   "id": "e4f277d5c2f4630e"
  },
  {
   "cell_type": "code",
   "execution_count": 27,
   "outputs": [
    {
     "name": "stdout",
     "output_type": "stream",
     "text": [
      "0\n"
     ]
    }
   ],
   "source": [
    "# get/define the ground truth\n",
    "# groundTruth = [\"Google Cloud\", \"Platform\"]\n",
    "groundTruth = [\"Succes in rezolvarea\", \"tEMELOR la\", \"LABORAtoaree de\", \"Inteligenta Artificiala!\"]\n",
    "\n",
    "# compute the performance\n",
    "noOfCorrectLines = sum(i == j for i, j in zip(result, groundTruth))\n",
    "print(noOfCorrectLines)"
   ],
   "metadata": {
    "collapsed": false,
    "ExecuteTime": {
     "end_time": "2025-03-17T16:42:12.764842100Z",
     "start_time": "2025-03-17T16:42:12.761254700Z"
    }
   },
   "id": "2761ee2c3d032fca"
  },
  {
   "cell_type": "markdown",
   "source": [
    "# Ex 1. calitatea procesului de recunoastere a textului, atat la nivel de caracter, cat si la nivel de cuvant"
   ],
   "metadata": {
    "collapsed": false
   },
   "id": "57806c0729059751"
  },
  {
   "cell_type": "markdown",
   "source": [
    "# a.prin folosirea unei metrici de distanta sau"
   ],
   "metadata": {
    "collapsed": false
   },
   "id": "838fff0de16a7cb6"
  },
  {
   "cell_type": "code",
   "execution_count": 39,
   "outputs": [
    {
     "data": {
      "text/plain": "True"
     },
     "execution_count": 39,
     "metadata": {},
     "output_type": "execute_result"
    }
   ],
   "source": [
    "import cv2\n",
    "\n",
    "# Incarc imaginea\n",
    "image = cv2.imread('image.jpeg')\n",
    "\n",
    "# Convertim imaginea în tonuri de gri\n",
    "gray = cv2.cvtColor(image, cv2.COLOR_BGR2GRAY)\n",
    "\n",
    "# Aplic un filtru de thresholding (binarizare)\n",
    "_, binary = cv2.threshold(gray, 128, 255, cv2.THRESH_BINARY_INV)\n",
    "\n",
    "# Salvez imaginea preprocesata\n",
    "cv2.imwrite('preprocessed_image.jpg', binary)"
   ],
   "metadata": {
    "collapsed": false,
    "ExecuteTime": {
     "end_time": "2025-03-17T18:18:36.197192500Z",
     "start_time": "2025-03-17T18:18:36.176666500Z"
    }
   },
   "id": "c36521dbc3240d73"
  },
  {
   "cell_type": "code",
   "execution_count": 41,
   "outputs": [
    {
     "name": "stdout",
     "output_type": "stream",
     "text": [
      "Text recunoscut: Gecaus €\n",
      "be doing\n"
     ]
    }
   ],
   "source": [
    "from PIL import Image\n",
    "import pytesseract\n",
    "\n",
    "# Configurez calea catre executabilul Tesseract (Windows)\n",
    "pytesseract.pytesseract.tesseract_cmd = r'C:\\Program Files\\Tesseract-OCR\\tesseract.exe'\n",
    "\n",
    "# Incarc imaginea preprocesata\n",
    "image_path = 'preprocessed_image.jpg'\n",
    "image = Image.open(image_path)\n",
    "\n",
    "# Extrag textul folosind Tesseract\n",
    "recognized_text = pytesseract.image_to_string(image, lang='eng')\n",
    "print(\"Text recunoscut:\", recognized_text)"
   ],
   "metadata": {
    "collapsed": false,
    "ExecuteTime": {
     "end_time": "2025-03-17T18:18:46.551369400Z",
     "start_time": "2025-03-17T18:18:46.350572Z"
    }
   },
   "id": "a4654ad23b323040"
  },
  {
   "cell_type": "code",
   "execution_count": 42,
   "outputs": [
    {
     "name": "stdout",
     "output_type": "stream",
     "text": [
      "Character Error Rate (CER): 0.3125\n"
     ]
    }
   ],
   "source": [
    "import Levenshtein\n",
    "\n",
    "# Textul corect (ground truth)\n",
    "ground_truth = \"Because be doing\"\n",
    "\n",
    "# Calculez distanța Levenshtein\n",
    "distance = Levenshtein.distance(ground_truth, recognized_text)\n",
    "\n",
    "# Calculez CER\n",
    "cer = distance / len(ground_truth)\n",
    "print(\"Character Error Rate (CER):\", cer)"
   ],
   "metadata": {
    "collapsed": false,
    "ExecuteTime": {
     "end_time": "2025-03-17T18:19:10.399945Z",
     "start_time": "2025-03-17T18:19:10.375875500Z"
    }
   },
   "id": "ccaf254682c3843d"
  },
  {
   "cell_type": "markdown",
   "source": [
    "# b. prin folosirea mai multor metrici de distanta."
   ],
   "metadata": {
    "collapsed": false
   },
   "id": "f59d71160c351397"
  },
  {
   "cell_type": "code",
   "execution_count": 4,
   "outputs": [
    {
     "name": "stdout",
     "output_type": "stream",
     "text": [
      "Character Error Rate (CER): 0.125\n",
      "Word Error Rate (WER): 0.3333333333333333\n",
      "Distanța Hamming: 2\n"
     ]
    }
   ],
   "source": [
    "import Levenshtein\n",
    "\n",
    "# Functie pentru calcularea CER\n",
    "def calculate_cer(ground_truth, recognized_text):\n",
    "    return Levenshtein.distance(ground_truth, recognized_text) / len(ground_truth)\n",
    "\n",
    "# Functie pentru calcularea WER\n",
    "def calculate_wer(ground_truth, recognized_text):\n",
    "    ground_truth_words = ground_truth.split()\n",
    "    recognized_words = recognized_text.split()\n",
    "    return Levenshtein.distance(ground_truth_words, recognized_words) / len(ground_truth_words)\n",
    "\n",
    "# Functie pentru calcularea distantei Hamming\n",
    "def calculate_hamming(ground_truth, recognized_text):\n",
    "    if len(ground_truth) != len(recognized_text):\n",
    "        raise ValueError(\"Șirurile trebuie să aibă aceeași lungime pentru distanța Hamming\")\n",
    "    return Levenshtein.hamming(ground_truth, recognized_text)\n",
    "\n",
    "# Textul corect (ground truth)\n",
    "ground_truth = \"Because be doing\"\n",
    "\n",
    "# Textul recunoscut\n",
    "recognized_text = \"Gecaus€ be doing\"\n",
    "\n",
    "# Calculam CER\n",
    "cer = calculate_cer(ground_truth, recognized_text)\n",
    "\n",
    "# Calculăm WER\n",
    "wer = calculate_wer(ground_truth, recognized_text)\n",
    "\n",
    "# Calculam distanta Hamming\n",
    "try:\n",
    "    hamming_dist = calculate_hamming(ground_truth, recognized_text)\n",
    "except ValueError as e:\n",
    "    hamming_dist = str(e)\n",
    "\n",
    "# Afisam rezultatele\n",
    "print(\"Character Error Rate (CER):\", cer)\n",
    "print(\"Word Error Rate (WER):\", wer)\n",
    "print(\"Distanta Hamming:\", hamming_dist)"
   ],
   "metadata": {
    "collapsed": false,
    "ExecuteTime": {
     "end_time": "2025-03-17T18:28:57.120549200Z",
     "start_time": "2025-03-17T18:28:57.110828800Z"
    }
   },
   "id": "cbe54d5e5b7eeb85"
  },
  {
   "cell_type": "code",
   "execution_count": null,
   "outputs": [],
   "source": [],
   "metadata": {
    "collapsed": false
   },
   "id": "440eeff0cf7054d1"
  }
 ],
 "metadata": {
  "kernelspec": {
   "display_name": "Python 3",
   "language": "python",
   "name": "python3"
  },
  "language_info": {
   "codemirror_mode": {
    "name": "ipython",
    "version": 2
   },
   "file_extension": ".py",
   "mimetype": "text/x-python",
   "name": "python",
   "nbconvert_exporter": "python",
   "pygments_lexer": "ipython2",
   "version": "2.7.6"
  }
 },
 "nbformat": 4,
 "nbformat_minor": 5
}
