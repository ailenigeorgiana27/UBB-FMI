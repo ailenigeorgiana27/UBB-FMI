{
 "cells": [
  {
   "cell_type": "markdown",
   "source": [
    "# Ex3. posibilitati de imbunatatire a recunoasterii textului"
   ],
   "metadata": {
    "collapsed": false
   },
   "id": "f60024b116ceb1de"
  },
  {
   "cell_type": "code",
   "execution_count": 1,
   "outputs": [],
   "source": [
    "import cv2\n",
    "\n",
    "def preprocess_image(image_path):\n",
    "    \"\"\"Aplica preprocesare pe imagine pentru imbunatatirea OCR.\"\"\"\n",
    "    image = cv2.imread(image_path)\n",
    "    gray = cv2.cvtColor(image, cv2.COLOR_BGR2GRAY)  # Convertire la grayscale\n",
    "    blur = cv2.GaussianBlur(gray, (5, 5), 0)  # Eliminare zgomot\n",
    "    _, binary = cv2.threshold(blur, 0, 255, cv2.THRESH_BINARY + cv2.THRESH_OTSU)  # Binarizare\n",
    "    \n",
    "    cv2.imshow(\"Preprocessed Image\", binary)\n",
    "    cv2.waitKey(0)\n",
    "    cv2.destroyAllWindows()\n",
    "\n",
    "    return binary\n",
    "\n",
    "# Exemplu de utilizare\n",
    "image_path = \"image.jpeg\"\n",
    "preprocessed_image = preprocess_image(image_path)\n"
   ],
   "metadata": {
    "collapsed": false,
    "ExecuteTime": {
     "end_time": "2025-03-18T14:39:54.601204200Z",
     "start_time": "2025-03-18T14:39:52.139735800Z"
    }
   },
   "id": "84223a9736dd5634"
  },
  {
   "cell_type": "code",
   "execution_count": null,
   "outputs": [],
   "source": [],
   "metadata": {
    "collapsed": false
   },
   "id": "be56655558b17407"
  }
 ],
 "metadata": {
  "kernelspec": {
   "display_name": "Python 3",
   "language": "python",
   "name": "python3"
  },
  "language_info": {
   "codemirror_mode": {
    "name": "ipython",
    "version": 2
   },
   "file_extension": ".py",
   "mimetype": "text/x-python",
   "name": "python",
   "nbconvert_exporter": "python",
   "pygments_lexer": "ipython2",
   "version": "2.7.6"
  }
 },
 "nbformat": 4,
 "nbformat_minor": 5
}
