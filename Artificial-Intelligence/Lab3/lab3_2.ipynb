{
 "cells": [
  {
   "cell_type": "markdown",
   "source": [
    "# Ex 2.calitatea localizarii corecte a textului in imagine"
   ],
   "metadata": {
    "collapsed": false
   },
   "id": "8f167f041d66f962"
  },
  {
   "cell_type": "code",
   "execution_count": 3,
   "outputs": [
    {
     "name": "stdout",
     "output_type": "stream",
     "text": [
      "Intersection over Union (IoU): 0.276566757493188\n",
      "Imaginea cu regiunile de text detectate a fost salvată ca 'detected_text.jpg'.\n"
     ]
    }
   ],
   "source": [
    "import cv2\n",
    "import pytesseract\n",
    "from pytesseract import Output\n",
    "\n",
    "# Configurez calea catre executabilul Tesseract (Windows)\n",
    "pytesseract.pytesseract.tesseract_cmd = r'C:\\Program Files\\Tesseract-OCR\\tesseract.exe'\n",
    "\n",
    "# Incarc imaginea\n",
    "image = cv2.imread('image.jpeg')\n",
    "# Selectează regiunea manual\n",
    "roi = cv2.selectROI(\"Selecteaza Ground Truth\", image, fromCenter=False, showCrosshair=True)\n",
    "\n",
    "# Extrage coordonatele (x1, y1, lățime, înălțime)\n",
    "x1, y1, w, h = roi\n",
    "x2, y2 = x1 + w, y1 + h\n",
    "\n",
    "ground_truth_box = (x1, y1, x2, y2)\n",
    "\n",
    "cv2.waitKey(0)\n",
    "cv2.destroyAllWindows()\n",
    "\n",
    "# Convertesc imaginea in tonuri de gri\n",
    "gray = cv2.cvtColor(image, cv2.COLOR_BGR2GRAY)\n",
    "\n",
    "# Aplic un filtru de thresholding (binarizare)\n",
    "_, binary = cv2.threshold(gray, 128, 255, cv2.THRESH_BINARY_INV)\n",
    "\n",
    "# Salvez imaginea preprocesata\n",
    "cv2.imwrite('preprocessed_image.jpg', binary)\n",
    "\n",
    "# Incarc imaginea preprocesata\n",
    "image = cv2.imread('preprocessed_image.jpg')\n",
    "\n",
    "# Detectez regiunile de text folosind Tesseract\n",
    "data = pytesseract.image_to_data(image, output_type=Output.DICT)\n",
    "\n",
    "# Functie pentru calculul IoU\n",
    "def calculate_iou(box1, box2):\n",
    "    \"\"\"\n",
    "    Calculeaza Intersection over Union (IoU) intre doua dreptunghiuri.\n",
    "    box1 și box2 sunt tuple de forma (x1, y1, x2, y2).\n",
    "    \"\"\"\n",
    "    # Coordonatele intersectiei\n",
    "    x1 = max(box1[0], box2[0])\n",
    "    y1 = max(box1[1], box2[1])\n",
    "    x2 = min(box1[2], box2[2])\n",
    "    y2 = min(box1[3], box2[3])\n",
    "\n",
    "    # Aria intersectiei\n",
    "    inter_area = max(0, x2 - x1) * max(0, y2 - y1)\n",
    "\n",
    "    # Aria celor doua dreptunghiuri\n",
    "    box1_area = (box1[2] - box1[0]) * (box1[3] - box1[1])\n",
    "    box2_area = (box2[2] - box2[0]) * (box2[3] - box2[1])\n",
    "\n",
    "    # Aria uniunii\n",
    "    union_area = box1_area + box2_area - inter_area\n",
    "\n",
    "    # IoU\n",
    "    iou = inter_area / union_area if union_area != 0 else 0\n",
    "    return iou\n",
    "\n",
    "\n",
    "\n",
    "# Parcurg toate regiunile detectate și calculez IoU pentru fiecare\n",
    "iou_values = []\n",
    "for i in range(len(data['text'])):\n",
    "    if int(data['conf'][i]) > 0:  # Filtrez regiunile fara text detectat\n",
    "        detected_box = (\n",
    "            data['left'][i],\n",
    "            data['top'][i],\n",
    "            data['left'][i] + data['width'][i],\n",
    "            data['top'][i] + data['height'][i]\n",
    "        )\n",
    "        iou = calculate_iou(ground_truth_box, detected_box)\n",
    "        iou_values.append(iou)\n",
    "\n",
    "# Returnez cea mai mare valoare IoU (cea mai buna suprapunere)\n",
    "max_iou = max(iou_values) if iou_values else 0\n",
    "print(\"Intersection over Union (IoU):\", max_iou)\n",
    "\n",
    "# Desenez regiunile de text detectate\n",
    "for i in range(len(data['text'])):\n",
    "    if int(data['conf'][i]) > 0:\n",
    "        (x, y, w, h) = (data['left'][i], data['top'][i], data['width'][i], data['height'][i])\n",
    "        cv2.rectangle(image, (x, y), (x + w, y + h), (0, 255, 0), 2)\n",
    "\n",
    "# Salvez imaginea cu regiunile de text detectate\n",
    "cv2.imwrite('detected_text.jpg', image)\n",
    "print(\"Imaginea cu regiunile de text detectate a fost salvată ca 'detected_text.jpg'.\")\n"
   ],
   "metadata": {
    "collapsed": false,
    "ExecuteTime": {
     "end_time": "2025-03-18T15:01:52.960132300Z",
     "start_time": "2025-03-18T15:01:45.471641300Z"
    }
   },
   "id": "e402ec5f01ea5ad"
  },
  {
   "cell_type": "code",
   "execution_count": 1,
   "outputs": [],
   "source": [],
   "metadata": {
    "collapsed": false,
    "ExecuteTime": {
     "end_time": "2025-03-18T14:38:12.820183100Z",
     "start_time": "2025-03-18T14:38:12.753226100Z"
    }
   },
   "id": "292ba4051d99f14"
  },
  {
   "cell_type": "code",
   "execution_count": null,
   "outputs": [],
   "source": [],
   "metadata": {
    "collapsed": false
   },
   "id": "e8d5a7947dcaba32"
  }
 ],
 "metadata": {
  "kernelspec": {
   "display_name": "Python 3",
   "language": "python",
   "name": "python3"
  },
  "language_info": {
   "codemirror_mode": {
    "name": "ipython",
    "version": 2
   },
   "file_extension": ".py",
   "mimetype": "text/x-python",
   "name": "python",
   "nbconvert_exporter": "python",
   "pygments_lexer": "ipython2",
   "version": "2.7.6"
  }
 },
 "nbformat": 4,
 "nbformat_minor": 5
}
