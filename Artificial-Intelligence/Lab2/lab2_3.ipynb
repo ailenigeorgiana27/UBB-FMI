{
 "cells": [
  {
   "cell_type": "markdown",
   "source": [
    "# Exercitiu 3"
   ],
   "metadata": {
    "collapsed": false
   },
   "id": "3909131b301ca961"
  },
  {
   "cell_type": "markdown",
   "source": [
    " # numarul de propozitii din text"
   ],
   "metadata": {
    "collapsed": false
   },
   "id": "9047197215f5e05a"
  },
  {
   "cell_type": "code",
   "execution_count": 1,
   "outputs": [
    {
     "name": "stdout",
     "output_type": "stream",
     "text": [
      "Mesaj de informare: \n",
      "Cursul și laboratoarele de Inteligență Artificială vor fi o \n",
      "provocare pentru toți. Suntem convinși că veți realiza proiecte \n",
      "foarte interesante. Vă încurajăm să adresați întrebări atunci \n",
      "când ceva nu e clar, atât în mod live, cât și folosind platforma \n",
      "Teams, canalul ”general”. \n",
      "Dacă ați citit până aici, vă rugăm să lăsați un mesaj pe canalul \n",
      "general cu textul ”Confiiiiiiiiiiiiiiiiiiiiiiiiiiiirm că am citit \n",
      "textul pentru problema 3 din lab2”. \n",
      "--\n",
      "Mesaj de informare generat de ChatGPT:\n",
      "Stimați cursanți,\n",
      "Suntem încântați să vă avem în echipa noastră pentru Cursul și \n",
      "laboratoarele de Inteligență Artificială. Această experiență va \n",
      "fi o adevărată provocare, dar suntem convinși că veți realiza \n",
      "proiecte extrem de interesante.\n",
      "Vă încurajăm să fiți activi și să adresați întrebări atunci când \n",
      "ceva nu este clar. Fie că este vorba de o discuție în timp real \n",
      "sau prin intermediul platformei Teams, canalul ”general”, suntem \n",
      "aici să vă sprijinim.\n",
      "Succes și să înceapă aventura AI!\n",
      "Cu considerație, Echipa de Inteligență Artificială\n"
     ]
    }
   ],
   "source": [
    "import urllib.request\n",
    "\n",
    "\n",
    "url = 'https://github.com/lauradiosan/AI-UBB/raw/refs/heads/main/2024-2025/labs/lab02/data/texts.txt'\n",
    "\n",
    "with urllib.request.urlopen(url) as response:\n",
    "    text = response.read().decode('utf-8')\n",
    "\n",
    "print(text)"
   ],
   "metadata": {
    "collapsed": false,
    "ExecuteTime": {
     "end_time": "2025-03-11T14:12:19.444455800Z",
     "start_time": "2025-03-11T14:12:15.743455400Z"
    }
   },
   "id": "585a2055e33f0fd"
  },
  {
   "cell_type": "code",
   "execution_count": 2,
   "outputs": [
    {
     "name": "stdout",
     "output_type": "stream",
     "text": [
      "Nr de propozitii:  10\n"
     ]
    },
    {
     "name": "stderr",
     "output_type": "stream",
     "text": [
      "[nltk_data] Downloading package punkt_tab to C:\\Users\\Personal\n",
      "[nltk_data]     PC\\AppData\\Roaming\\nltk_data...\n",
      "[nltk_data]   Package punkt_tab is already up-to-date!\n"
     ]
    }
   ],
   "source": [
    "import nltk\n",
    "nltk.download('punkt_tab')\n",
    "from nltk.tokenize import sent_tokenize\n",
    "\n",
    "propozitii = sent_tokenize(text)\n",
    "print(\"Nr de propozitii: \", len(propozitii))"
   ],
   "metadata": {
    "collapsed": false,
    "ExecuteTime": {
     "end_time": "2025-03-11T14:12:20.453156600Z",
     "start_time": "2025-03-11T14:12:19.444455800Z"
    }
   },
   "id": "7c30c6a02aff45f4"
  },
  {
   "cell_type": "markdown",
   "source": [
    "# Numarul de cuvinte din text"
   ],
   "metadata": {
    "collapsed": false
   },
   "id": "26324f8a62e3cd9d"
  },
  {
   "cell_type": "code",
   "execution_count": 3,
   "outputs": [
    {
     "name": "stdout",
     "output_type": "stream",
     "text": [
      "Nr de cuvinte:  161\n"
     ]
    }
   ],
   "source": [
    "cuvinte = text.split()\n",
    "num_cuvinte = len(cuvinte)\n",
    "\n",
    "print(\"Nr de cuvinte: \", num_cuvinte)"
   ],
   "metadata": {
    "collapsed": false,
    "ExecuteTime": {
     "end_time": "2025-03-11T14:12:20.461486Z",
     "start_time": "2025-03-11T14:12:20.453156600Z"
    }
   },
   "id": "942ae106f06bdeeb"
  },
  {
   "cell_type": "markdown",
   "source": [
    "# Numarul de cuvinte diferite din text"
   ],
   "metadata": {
    "collapsed": false
   },
   "id": "28bd5f1f4caf670b"
  },
  {
   "cell_type": "code",
   "execution_count": 4,
   "outputs": [
    {
     "name": "stdout",
     "output_type": "stream",
     "text": [
      "Nr de cuvinte diferite:  92\n"
     ]
    }
   ],
   "source": [
    "import re\n",
    "\n",
    "cuvinte = re.findall(r'\\b\\w+\\b', text.lower())\n",
    "\n",
    "cuvinte_unice = set(cuvinte)\n",
    "nr_cuvinte_unice = len(cuvinte_unice)\n",
    "\n",
    "print(\"Nr de cuvinte diferite: \", nr_cuvinte_unice)"
   ],
   "metadata": {
    "collapsed": false,
    "ExecuteTime": {
     "end_time": "2025-03-11T14:12:20.477781700Z",
     "start_time": "2025-03-11T14:12:20.469656500Z"
    }
   },
   "id": "8b8bb9ff82ca5f7d"
  },
  {
   "cell_type": "markdown",
   "source": [
    "# Cel mai scurt si cel mai lung cuvant(cuvinte)"
   ],
   "metadata": {
    "collapsed": false
   },
   "id": "b063009a94bddd87"
  },
  {
   "cell_type": "code",
   "execution_count": 5,
   "outputs": [
    {
     "name": "stdout",
     "output_type": "stream",
     "text": [
      "['confiiiiiiiiiiiiiiiiiiiiiiiiiiiirm']\n"
     ]
    }
   ],
   "source": [
    "cele_mai_lungi_cuvinte = []\n",
    "\n",
    "maxim = 0\n",
    "for cuvant in cuvinte:\n",
    "    if len(cuvant) > maxim:\n",
    "        cele_mai_lungi_cuvinte = [cuvant]\n",
    "        maxim = len(cuvant)\n",
    "    elif len(cuvant) == maxim:\n",
    "        cele_mai_lungi_cuvinte.append(cuvant)\n",
    "        \n",
    "print(cele_mai_lungi_cuvinte)"
   ],
   "metadata": {
    "collapsed": false,
    "ExecuteTime": {
     "end_time": "2025-03-11T14:12:20.577642600Z",
     "start_time": "2025-03-11T14:12:20.469656500Z"
    }
   },
   "id": "33612f47ca0a485e"
  },
  {
   "cell_type": "markdown",
   "source": [
    "# Textul fara diacritice"
   ],
   "metadata": {
    "collapsed": false
   },
   "id": "ab8826c635411a1e"
  },
  {
   "cell_type": "code",
   "execution_count": 6,
   "outputs": [
    {
     "name": "stdout",
     "output_type": "stream",
     "text": [
      "Mesaj de informare: \n",
      "Cursul si laboratoarele de Inteligenta Artificiala vor fi o \n",
      "provocare pentru toti. Suntem convinsi ca veti realiza proiecte \n",
      "foarte interesante. Va incurajam sa adresati intrebari atunci \n",
      "cand ceva nu e clar, atat in mod live, cat si folosind platforma \n",
      "Teams, canalul ”general”. \n",
      "Daca ati citit pana aici, va rugam sa lasati un mesaj pe canalul \n",
      "general cu textul ”Confiiiiiiiiiiiiiiiiiiiiiiiiiiiirm ca am citit \n",
      "textul pentru problema 3 din lab2”. \n",
      "--\n",
      "Mesaj de informare generat de ChatGPT:\n",
      "Stimati cursanti,\n",
      "Suntem incantati sa va avem in echipa noastra pentru Cursul si \n",
      "laboratoarele de Inteligenta Artificiala. Aceasta experienta va \n",
      "fi o adevarata provocare, dar suntem convinsi ca veti realiza \n",
      "proiecte extrem de interesante.\n",
      "Va incurajam sa fiti activi si sa adresati intrebari atunci cand \n",
      "ceva nu este clar. Fie ca este vorba de o discutie in timp real \n",
      "sau prin intermediul platformei Teams, canalul ”general”, suntem \n",
      "aici sa va sprijinim.\n",
      "Succes si sa inceapa aventura AI!\n",
      "Cu consideratie, Echipa de Inteligenta Artificiala\n"
     ]
    }
   ],
   "source": [
    "import unicodedata\n",
    "\n",
    "def remove_diacritice(text_fct):\n",
    "    return ''.join(\n",
    "        c for c in unicodedata.normalize('NFD', text_fct) if unicodedata.category(c) != 'Mn'\n",
    "    )\n",
    "\n",
    "text_fara_diacritice = remove_diacritice(text)\n",
    "\n",
    "print(text_fara_diacritice)"
   ],
   "metadata": {
    "collapsed": false,
    "ExecuteTime": {
     "end_time": "2025-03-11T14:12:20.577642600Z",
     "start_time": "2025-03-11T14:12:20.486650200Z"
    }
   },
   "id": "af000c543c0e29be"
  },
  {
   "cell_type": "markdown",
   "source": [
    "# Sinonimele celui mai lung  cuvant din text"
   ],
   "metadata": {
    "collapsed": false
   },
   "id": "f8ccbb74694a5044"
  },
  {
   "cell_type": "code",
   "execution_count": 7,
   "outputs": [
    {
     "name": "stderr",
     "output_type": "stream",
     "text": [
      "[nltk_data] Downloading package wordnet to C:\\Users\\Personal\n",
      "[nltk_data]     PC\\AppData\\Roaming\\nltk_data...\n",
      "[nltk_data]   Package wordnet is already up-to-date!\n"
     ]
    },
    {
     "name": "stdout",
     "output_type": "stream",
     "text": [
      "Cel mai lung cuvant: Confiiiiiiiiiiiiiiiiiiiiiiiiiiiirm\n",
      "Sinonimele acestuia: []\n"
     ]
    }
   ],
   "source": [
    "import nltk\n",
    "nltk.download('wordnet')\n",
    "from nltk.corpus import wordnet\n",
    "\n",
    "def find_longest_word(text_fct):\n",
    "    cuvinte_fct = nltk.word_tokenize(text_fct)\n",
    "    cel_mai_lung_cuvant_fct = max(cuvinte_fct, key=len)\n",
    "    return cel_mai_lung_cuvant_fct\n",
    "\n",
    "def get_synonyms(cuvant):\n",
    "    sinonime = set()\n",
    "    for sinonim in wordnet.synsets(cuvant):\n",
    "        for lemma in sinonim.lemmas():\n",
    "            sinonime.add(lemma.name())\n",
    "    return list(sinonime)\n",
    "\n",
    "cel_mai_lung_cuvant = find_longest_word(text)\n",
    "\n",
    "sinonime = get_synonyms(cel_mai_lung_cuvant)\n",
    "\n",
    "print(f\"Cel mai lung cuvant: {cel_mai_lung_cuvant}\")\n",
    "print(f\"Sinonimele acestuia: {sinonime}\")\n"
   ],
   "metadata": {
    "collapsed": false,
    "ExecuteTime": {
     "end_time": "2025-03-11T14:12:23.313459200Z",
     "start_time": "2025-03-11T14:12:20.497867400Z"
    }
   },
   "id": "509e17a1f6497be0"
  },
  {
   "cell_type": "markdown",
   "source": [
    "# NORMALIZARE"
   ],
   "metadata": {
    "collapsed": false
   },
   "id": "4c00dfc366b5ede6"
  },
  {
   "cell_type": "code",
   "execution_count": 8,
   "outputs": [
    {
     "name": "stdout",
     "output_type": "stream",
     "text": [
      "Propoziția 1: {'mesaj': 0.058823529411764705, 'de': 0.11764705882352941, 'informare': 0.058823529411764705, ':': 0.058823529411764705, 'cursul': 0.058823529411764705, 'și': 0.058823529411764705, 'laboratoarele': 0.058823529411764705, 'inteligență': 0.058823529411764705, 'artificială': 0.058823529411764705, 'vor': 0.058823529411764705, 'fi': 0.058823529411764705, 'o': 0.058823529411764705, 'provocare': 0.058823529411764705, 'pentru': 0.058823529411764705, 'toți': 0.058823529411764705, '.': 0.058823529411764705}\n",
      "Propoziția 2: {'suntem': 0.1111111111111111, 'convinși': 0.1111111111111111, 'că': 0.1111111111111111, 'veți': 0.1111111111111111, 'realiza': 0.1111111111111111, 'proiecte': 0.1111111111111111, 'foarte': 0.1111111111111111, 'interesante': 0.1111111111111111, '.': 0.1111111111111111}\n",
      "Propoziția 3: {'vă': 0.03571428571428571, 'încurajăm': 0.03571428571428571, 'să': 0.03571428571428571, 'adresați': 0.03571428571428571, 'întrebări': 0.03571428571428571, 'atunci': 0.03571428571428571, 'când': 0.03571428571428571, 'ceva': 0.03571428571428571, 'nu': 0.03571428571428571, 'e': 0.03571428571428571, 'clar': 0.03571428571428571, ',': 0.10714285714285714, 'atât': 0.03571428571428571, 'în': 0.03571428571428571, 'mod': 0.03571428571428571, 'live': 0.03571428571428571, 'cât': 0.03571428571428571, 'și': 0.03571428571428571, 'folosind': 0.03571428571428571, 'platforma': 0.03571428571428571, 'teams': 0.03571428571428571, 'canalul': 0.03571428571428571, '”': 0.07142857142857142, 'general': 0.03571428571428571, '.': 0.03571428571428571}\n",
      "Propoziția 4: {'dacă': 0.03333333333333333, 'ați': 0.03333333333333333, 'citit': 0.06666666666666667, 'până': 0.03333333333333333, 'aici': 0.03333333333333333, ',': 0.03333333333333333, 'vă': 0.03333333333333333, 'rugăm': 0.03333333333333333, 'să': 0.03333333333333333, 'lăsați': 0.03333333333333333, 'un': 0.03333333333333333, 'mesaj': 0.03333333333333333, 'pe': 0.03333333333333333, 'canalul': 0.03333333333333333, 'general': 0.03333333333333333, 'cu': 0.03333333333333333, 'textul': 0.06666666666666667, '”': 0.06666666666666667, 'confiiiiiiiiiiiiiiiiiiiiiiiiiiiirm': 0.03333333333333333, 'că': 0.03333333333333333, 'am': 0.03333333333333333, 'pentru': 0.03333333333333333, 'problema': 0.03333333333333333, '3': 0.03333333333333333, 'din': 0.03333333333333333, 'lab2': 0.03333333333333333, '.': 0.03333333333333333}\n",
      "Propoziția 5: {'--': 0.037037037037037035, 'mesaj': 0.037037037037037035, 'de': 0.1111111111111111, 'informare': 0.037037037037037035, 'generat': 0.037037037037037035, 'chatgpt': 0.037037037037037035, ':': 0.037037037037037035, 'stimați': 0.037037037037037035, 'cursanți': 0.037037037037037035, ',': 0.037037037037037035, 'suntem': 0.037037037037037035, 'încântați': 0.037037037037037035, 'să': 0.037037037037037035, 'vă': 0.037037037037037035, 'avem': 0.037037037037037035, 'în': 0.037037037037037035, 'echipa': 0.037037037037037035, 'noastră': 0.037037037037037035, 'pentru': 0.037037037037037035, 'cursul': 0.037037037037037035, 'și': 0.037037037037037035, 'laboratoarele': 0.037037037037037035, 'inteligență': 0.037037037037037035, 'artificială': 0.037037037037037035, '.': 0.037037037037037035}\n",
      "Propoziția 6: {'această': 0.05263157894736842, 'experiență': 0.05263157894736842, 'va': 0.05263157894736842, 'fi': 0.05263157894736842, 'o': 0.05263157894736842, 'adevărată': 0.05263157894736842, 'provocare': 0.05263157894736842, ',': 0.05263157894736842, 'dar': 0.05263157894736842, 'suntem': 0.05263157894736842, 'convinși': 0.05263157894736842, 'că': 0.05263157894736842, 'veți': 0.05263157894736842, 'realiza': 0.05263157894736842, 'proiecte': 0.05263157894736842, 'extrem': 0.05263157894736842, 'de': 0.05263157894736842, 'interesante': 0.05263157894736842, '.': 0.05263157894736842}\n",
      "Propoziția 7: {'vă': 0.0625, 'încurajăm': 0.0625, 'să': 0.125, 'fiți': 0.0625, 'activi': 0.0625, 'și': 0.0625, 'adresați': 0.0625, 'întrebări': 0.0625, 'atunci': 0.0625, 'când': 0.0625, 'ceva': 0.0625, 'nu': 0.0625, 'este': 0.0625, 'clar': 0.0625, '.': 0.0625}\n",
      "Propoziția 8: {'fie': 0.037037037037037035, 'că': 0.037037037037037035, 'este': 0.037037037037037035, 'vorba': 0.037037037037037035, 'de': 0.037037037037037035, 'o': 0.037037037037037035, 'discuție': 0.037037037037037035, 'în': 0.037037037037037035, 'timp': 0.037037037037037035, 'real': 0.037037037037037035, 'sau': 0.037037037037037035, 'prin': 0.037037037037037035, 'intermediul': 0.037037037037037035, 'platformei': 0.037037037037037035, 'teams': 0.037037037037037035, ',': 0.07407407407407407, 'canalul': 0.037037037037037035, '”': 0.07407407407407407, 'general': 0.037037037037037035, 'suntem': 0.037037037037037035, 'aici': 0.037037037037037035, 'să': 0.037037037037037035, 'vă': 0.037037037037037035, 'sprijinim': 0.037037037037037035, '.': 0.037037037037037035}\n",
      "Propoziția 9: {'succes': 0.14285714285714285, 'și': 0.14285714285714285, 'să': 0.14285714285714285, 'înceapă': 0.14285714285714285, 'aventura': 0.14285714285714285, 'ai': 0.14285714285714285, '!': 0.14285714285714285}\n",
      "Propoziția 10: {'cu': 0.14285714285714285, 'considerație': 0.14285714285714285, ',': 0.14285714285714285, 'echipa': 0.14285714285714285, 'de': 0.14285714285714285, 'inteligență': 0.14285714285714285, 'artificială': 0.14285714285714285}\n"
     ]
    }
   ],
   "source": [
    "from nltk import word_tokenize, FreqDist\n",
    "\n",
    "# NORMALIZARE\n",
    "\n",
    "sentences = sent_tokenize(text)\n",
    "\n",
    "def normalize_word_frequencies(propizitii_normalizat):\n",
    "    frecvente_normalizate = []\n",
    "\n",
    "    for propozitie in propizitii_normalizat:\n",
    "        cuvinte_norm = word_tokenize(propozitie.lower())\n",
    "        word_freq = FreqDist(cuvinte_norm)  # Numără frecvențele cuvintelor\n",
    "        total_words = len(cuvinte_norm)\n",
    "\n",
    "        # Normalizare frecvență: raportăm fiecare frecvență la numărul total de cuvinte\n",
    "        normalized_sentence_freq = {word: frecv / total_words for word, frecv in word_freq.items()}\n",
    "\n",
    "        frecvente_normalizate.append(normalized_sentence_freq)\n",
    "\n",
    "    return frecvente_normalizate\n",
    "\n",
    "\n",
    "normalized_frequencies = normalize_word_frequencies(sentences)\n",
    "\n",
    "\n",
    "for idx, freq in enumerate(normalized_frequencies):\n",
    "    print(f\"Propoziția {idx + 1}: {freq}\")\n"
   ],
   "metadata": {
    "collapsed": false,
    "ExecuteTime": {
     "end_time": "2025-03-11T14:12:23.326016300Z",
     "start_time": "2025-03-11T14:12:23.313459200Z"
    }
   },
   "id": "8954ce686ba0fe60"
  },
  {
   "cell_type": "code",
   "execution_count": 8,
   "outputs": [],
   "source": [],
   "metadata": {
    "collapsed": false,
    "ExecuteTime": {
     "end_time": "2025-03-11T14:12:23.406159600Z",
     "start_time": "2025-03-11T14:12:23.319618700Z"
    }
   },
   "id": "1b588b03bb05a7ea"
  }
 ],
 "metadata": {
  "kernelspec": {
   "display_name": "Python 3",
   "language": "python",
   "name": "python3"
  },
  "language_info": {
   "codemirror_mode": {
    "name": "ipython",
    "version": 2
   },
   "file_extension": ".py",
   "mimetype": "text/x-python",
   "name": "python",
   "nbconvert_exporter": "python",
   "pygments_lexer": "ipython2",
   "version": "2.7.6"
  }
 },
 "nbformat": 4,
 "nbformat_minor": 5
}
